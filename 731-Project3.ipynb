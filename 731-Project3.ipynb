{
 "cells": [
  {
   "cell_type": "markdown",
   "metadata": {},
   "source": [
    "# Weekend Movie Trip"
   ]
  },
  {
   "cell_type": "markdown",
   "metadata": {},
   "source": [
    "## Introduction\n",
    "\n",
    "The datasets used in this project (linked below) contain movie review data from MovieLens, a movie recommendation service. The purpose of this project is to use a clustering model to find pockets of similar datapoints that can then be used to recommend movies to similar users."
   ]
  },
  {
   "cell_type": "code",
   "execution_count": 303,
   "metadata": {},
   "outputs": [],
   "source": [
    "import numpy as np\n",
    "import pandas as pd\n",
    "from sklearn.cluster import DBSCAN\n",
    "from sklearn.preprocessing import StandardScaler \n",
    "from sklearn.preprocessing import normalize \n",
    "from sklearn.decomposition import PCA \n",
    "from sklearn.preprocessing import StandardScaler\n",
    "import matplotlib.pyplot as plt"
   ]
  },
  {
   "cell_type": "markdown",
   "metadata": {},
   "source": [
    "## Data"
   ]
  },
  {
   "cell_type": "markdown",
   "metadata": {},
   "source": [
    "First I upload the data and print it to visually see the organization of said data. The raw data contains multiple files:\n",
    "Links - contains movie ID information across multiple websites. This dataset won't be useful for our purposes\n",
    "Movies - contains movie Id, title, and genre\n",
    "Ratings - Contains movie id, a user's rating and id, and a timestamp\n",
    "Tags - contains a movie id, a user's tag/comments on the movie, user id, and a timestamp\n",
    "\n",
    "I will combine the latter 3 datasets to create a single dataset for use in clustering"
   ]
  },
  {
   "cell_type": "code",
   "execution_count": 304,
   "metadata": {},
   "outputs": [
    {
     "data": {
      "text/html": [
       "<div>\n",
       "<style scoped>\n",
       "    .dataframe tbody tr th:only-of-type {\n",
       "        vertical-align: middle;\n",
       "    }\n",
       "\n",
       "    .dataframe tbody tr th {\n",
       "        vertical-align: top;\n",
       "    }\n",
       "\n",
       "    .dataframe thead th {\n",
       "        text-align: right;\n",
       "    }\n",
       "</style>\n",
       "<table border=\"1\" class=\"dataframe\">\n",
       "  <thead>\n",
       "    <tr style=\"text-align: right;\">\n",
       "      <th></th>\n",
       "      <th>movieId</th>\n",
       "      <th>imdbId</th>\n",
       "      <th>tmdbId</th>\n",
       "    </tr>\n",
       "  </thead>\n",
       "  <tbody>\n",
       "    <tr>\n",
       "      <th>0</th>\n",
       "      <td>1</td>\n",
       "      <td>114709</td>\n",
       "      <td>862.0</td>\n",
       "    </tr>\n",
       "    <tr>\n",
       "      <th>1</th>\n",
       "      <td>2</td>\n",
       "      <td>113497</td>\n",
       "      <td>8844.0</td>\n",
       "    </tr>\n",
       "    <tr>\n",
       "      <th>2</th>\n",
       "      <td>3</td>\n",
       "      <td>113228</td>\n",
       "      <td>15602.0</td>\n",
       "    </tr>\n",
       "    <tr>\n",
       "      <th>3</th>\n",
       "      <td>4</td>\n",
       "      <td>114885</td>\n",
       "      <td>31357.0</td>\n",
       "    </tr>\n",
       "    <tr>\n",
       "      <th>4</th>\n",
       "      <td>5</td>\n",
       "      <td>113041</td>\n",
       "      <td>11862.0</td>\n",
       "    </tr>\n",
       "  </tbody>\n",
       "</table>\n",
       "</div>"
      ],
      "text/plain": [
       "   movieId  imdbId   tmdbId\n",
       "0        1  114709    862.0\n",
       "1        2  113497   8844.0\n",
       "2        3  113228  15602.0\n",
       "3        4  114885  31357.0\n",
       "4        5  113041  11862.0"
      ]
     },
     "execution_count": 304,
     "metadata": {},
     "output_type": "execute_result"
    }
   ],
   "source": [
    "dfLinks=pd.read_csv(\"/Users/anissakhan/Dropbox/Nissa_stuff/KU_CS/EECS731/731-Project-3-Khan/Data/RawData/ml-latest-small/links.csv\")\n",
    "dfLinks.head()"
   ]
  },
  {
   "cell_type": "code",
   "execution_count": 305,
   "metadata": {},
   "outputs": [
    {
     "data": {
      "text/html": [
       "<div>\n",
       "<style scoped>\n",
       "    .dataframe tbody tr th:only-of-type {\n",
       "        vertical-align: middle;\n",
       "    }\n",
       "\n",
       "    .dataframe tbody tr th {\n",
       "        vertical-align: top;\n",
       "    }\n",
       "\n",
       "    .dataframe thead th {\n",
       "        text-align: right;\n",
       "    }\n",
       "</style>\n",
       "<table border=\"1\" class=\"dataframe\">\n",
       "  <thead>\n",
       "    <tr style=\"text-align: right;\">\n",
       "      <th></th>\n",
       "      <th>movieId</th>\n",
       "      <th>title</th>\n",
       "      <th>genres</th>\n",
       "    </tr>\n",
       "  </thead>\n",
       "  <tbody>\n",
       "    <tr>\n",
       "      <th>0</th>\n",
       "      <td>1</td>\n",
       "      <td>Toy Story (1995)</td>\n",
       "      <td>Adventure|Animation|Children|Comedy|Fantasy</td>\n",
       "    </tr>\n",
       "    <tr>\n",
       "      <th>1</th>\n",
       "      <td>2</td>\n",
       "      <td>Jumanji (1995)</td>\n",
       "      <td>Adventure|Children|Fantasy</td>\n",
       "    </tr>\n",
       "    <tr>\n",
       "      <th>2</th>\n",
       "      <td>3</td>\n",
       "      <td>Grumpier Old Men (1995)</td>\n",
       "      <td>Comedy|Romance</td>\n",
       "    </tr>\n",
       "    <tr>\n",
       "      <th>3</th>\n",
       "      <td>4</td>\n",
       "      <td>Waiting to Exhale (1995)</td>\n",
       "      <td>Comedy|Drama|Romance</td>\n",
       "    </tr>\n",
       "    <tr>\n",
       "      <th>4</th>\n",
       "      <td>5</td>\n",
       "      <td>Father of the Bride Part II (1995)</td>\n",
       "      <td>Comedy</td>\n",
       "    </tr>\n",
       "  </tbody>\n",
       "</table>\n",
       "</div>"
      ],
      "text/plain": [
       "   movieId                               title  \\\n",
       "0        1                    Toy Story (1995)   \n",
       "1        2                      Jumanji (1995)   \n",
       "2        3             Grumpier Old Men (1995)   \n",
       "3        4            Waiting to Exhale (1995)   \n",
       "4        5  Father of the Bride Part II (1995)   \n",
       "\n",
       "                                        genres  \n",
       "0  Adventure|Animation|Children|Comedy|Fantasy  \n",
       "1                   Adventure|Children|Fantasy  \n",
       "2                               Comedy|Romance  \n",
       "3                         Comedy|Drama|Romance  \n",
       "4                                       Comedy  "
      ]
     },
     "execution_count": 305,
     "metadata": {},
     "output_type": "execute_result"
    }
   ],
   "source": [
    "dfMovies=pd.read_csv(\"/Users/anissakhan/Dropbox/Nissa_stuff/KU_CS/EECS731/731-Project-3-Khan/Data/RawData/ml-latest-small/movies.csv\")\n",
    "dfMovies.head()"
   ]
  },
  {
   "cell_type": "markdown",
   "metadata": {},
   "source": [
    "Since the Ratings and Tag datasets both have an associated timestamp, I rename the timestamp variable in each of these datasets since the values differ per dataset. They become timestampRating and timestampTag for the respective datasets."
   ]
  },
  {
   "cell_type": "code",
   "execution_count": 306,
   "metadata": {},
   "outputs": [
    {
     "data": {
      "text/html": [
       "<div>\n",
       "<style scoped>\n",
       "    .dataframe tbody tr th:only-of-type {\n",
       "        vertical-align: middle;\n",
       "    }\n",
       "\n",
       "    .dataframe tbody tr th {\n",
       "        vertical-align: top;\n",
       "    }\n",
       "\n",
       "    .dataframe thead th {\n",
       "        text-align: right;\n",
       "    }\n",
       "</style>\n",
       "<table border=\"1\" class=\"dataframe\">\n",
       "  <thead>\n",
       "    <tr style=\"text-align: right;\">\n",
       "      <th></th>\n",
       "      <th>userId</th>\n",
       "      <th>movieId</th>\n",
       "      <th>rating</th>\n",
       "      <th>timestampRating</th>\n",
       "    </tr>\n",
       "  </thead>\n",
       "  <tbody>\n",
       "    <tr>\n",
       "      <th>0</th>\n",
       "      <td>1</td>\n",
       "      <td>1</td>\n",
       "      <td>4.0</td>\n",
       "      <td>964982703</td>\n",
       "    </tr>\n",
       "    <tr>\n",
       "      <th>1</th>\n",
       "      <td>1</td>\n",
       "      <td>3</td>\n",
       "      <td>4.0</td>\n",
       "      <td>964981247</td>\n",
       "    </tr>\n",
       "    <tr>\n",
       "      <th>2</th>\n",
       "      <td>1</td>\n",
       "      <td>6</td>\n",
       "      <td>4.0</td>\n",
       "      <td>964982224</td>\n",
       "    </tr>\n",
       "    <tr>\n",
       "      <th>3</th>\n",
       "      <td>1</td>\n",
       "      <td>47</td>\n",
       "      <td>5.0</td>\n",
       "      <td>964983815</td>\n",
       "    </tr>\n",
       "    <tr>\n",
       "      <th>4</th>\n",
       "      <td>1</td>\n",
       "      <td>50</td>\n",
       "      <td>5.0</td>\n",
       "      <td>964982931</td>\n",
       "    </tr>\n",
       "  </tbody>\n",
       "</table>\n",
       "</div>"
      ],
      "text/plain": [
       "   userId  movieId  rating  timestampRating\n",
       "0       1        1     4.0        964982703\n",
       "1       1        3     4.0        964981247\n",
       "2       1        6     4.0        964982224\n",
       "3       1       47     5.0        964983815\n",
       "4       1       50     5.0        964982931"
      ]
     },
     "execution_count": 306,
     "metadata": {},
     "output_type": "execute_result"
    }
   ],
   "source": [
    "dfRatings=pd.read_csv(\"/Users/anissakhan/Dropbox/Nissa_stuff/KU_CS/EECS731/731-Project-3-Khan/Data/RawData/ml-latest-small/ratings.csv\")\n",
    "dfRatings[\"timestampRating\"]=dfRatings[\"timestamp\"]\n",
    "dfRatings.drop(columns =[\"timestamp\"], inplace = True) \n",
    "dfRatings.head()"
   ]
  },
  {
   "cell_type": "code",
   "execution_count": 307,
   "metadata": {},
   "outputs": [
    {
     "data": {
      "text/html": [
       "<div>\n",
       "<style scoped>\n",
       "    .dataframe tbody tr th:only-of-type {\n",
       "        vertical-align: middle;\n",
       "    }\n",
       "\n",
       "    .dataframe tbody tr th {\n",
       "        vertical-align: top;\n",
       "    }\n",
       "\n",
       "    .dataframe thead th {\n",
       "        text-align: right;\n",
       "    }\n",
       "</style>\n",
       "<table border=\"1\" class=\"dataframe\">\n",
       "  <thead>\n",
       "    <tr style=\"text-align: right;\">\n",
       "      <th></th>\n",
       "      <th>userId</th>\n",
       "      <th>movieId</th>\n",
       "      <th>tag</th>\n",
       "      <th>timestampTag</th>\n",
       "    </tr>\n",
       "  </thead>\n",
       "  <tbody>\n",
       "    <tr>\n",
       "      <th>0</th>\n",
       "      <td>2</td>\n",
       "      <td>60756</td>\n",
       "      <td>funny</td>\n",
       "      <td>1445714994</td>\n",
       "    </tr>\n",
       "    <tr>\n",
       "      <th>1</th>\n",
       "      <td>2</td>\n",
       "      <td>60756</td>\n",
       "      <td>Highly quotable</td>\n",
       "      <td>1445714996</td>\n",
       "    </tr>\n",
       "    <tr>\n",
       "      <th>2</th>\n",
       "      <td>2</td>\n",
       "      <td>60756</td>\n",
       "      <td>will ferrell</td>\n",
       "      <td>1445714992</td>\n",
       "    </tr>\n",
       "    <tr>\n",
       "      <th>3</th>\n",
       "      <td>2</td>\n",
       "      <td>89774</td>\n",
       "      <td>Boxing story</td>\n",
       "      <td>1445715207</td>\n",
       "    </tr>\n",
       "    <tr>\n",
       "      <th>4</th>\n",
       "      <td>2</td>\n",
       "      <td>89774</td>\n",
       "      <td>MMA</td>\n",
       "      <td>1445715200</td>\n",
       "    </tr>\n",
       "  </tbody>\n",
       "</table>\n",
       "</div>"
      ],
      "text/plain": [
       "   userId  movieId              tag  timestampTag\n",
       "0       2    60756            funny    1445714994\n",
       "1       2    60756  Highly quotable    1445714996\n",
       "2       2    60756     will ferrell    1445714992\n",
       "3       2    89774     Boxing story    1445715207\n",
       "4       2    89774              MMA    1445715200"
      ]
     },
     "execution_count": 307,
     "metadata": {},
     "output_type": "execute_result"
    }
   ],
   "source": [
    "dfTags=pd.read_csv(\"/Users/anissakhan/Dropbox/Nissa_stuff/KU_CS/EECS731/731-Project-3-Khan/Data/RawData/ml-latest-small/tags.csv\")\n",
    "dfTags[\"timestampTag\"]=dfTags[\"timestamp\"]\n",
    "dfTags.drop(columns =[\"timestamp\"], inplace = True)\n",
    "dfTags['tag'] = dfTags['tag'].astype(\"string\")\n",
    "dfTags.head()"
   ]
  },
  {
   "cell_type": "markdown",
   "metadata": {},
   "source": [
    "I run summary statistics on the Ratings and Tag datasets to determine how many users tagged the movies they rated. There is a significant difference here, with 100,936 movies rated, but only 3683 tagged. When I combine the data, I end up dropping the observations that only have ratings, but no tags. This way all of the datapoints have all desired information we want to use in clustering."
   ]
  },
  {
   "cell_type": "code",
   "execution_count": 308,
   "metadata": {},
   "outputs": [
    {
     "name": "stdout",
     "output_type": "stream",
     "text": [
      "<class 'pandas.core.frame.DataFrame'>\n",
      "RangeIndex: 100836 entries, 0 to 100835\n",
      "Data columns (total 4 columns):\n",
      " #   Column           Non-Null Count   Dtype  \n",
      "---  ------           --------------   -----  \n",
      " 0   userId           100836 non-null  int64  \n",
      " 1   movieId          100836 non-null  int64  \n",
      " 2   rating           100836 non-null  float64\n",
      " 3   timestampRating  100836 non-null  int64  \n",
      "dtypes: float64(1), int64(3)\n",
      "memory usage: 3.1 MB\n"
     ]
    }
   ],
   "source": [
    "dfRatings.info()"
   ]
  },
  {
   "cell_type": "code",
   "execution_count": 309,
   "metadata": {},
   "outputs": [
    {
     "name": "stdout",
     "output_type": "stream",
     "text": [
      "<class 'pandas.core.frame.DataFrame'>\n",
      "RangeIndex: 3683 entries, 0 to 3682\n",
      "Data columns (total 4 columns):\n",
      " #   Column        Non-Null Count  Dtype \n",
      "---  ------        --------------  ----- \n",
      " 0   userId        3683 non-null   int64 \n",
      " 1   movieId       3683 non-null   int64 \n",
      " 2   tag           3683 non-null   string\n",
      " 3   timestampTag  3683 non-null   int64 \n",
      "dtypes: int64(3), string(1)\n",
      "memory usage: 115.2 KB\n"
     ]
    }
   ],
   "source": [
    "dfTags.info()"
   ]
  },
  {
   "cell_type": "markdown",
   "metadata": {},
   "source": [
    "## Data Cleaning and Merging\n",
    "\n",
    "The movies dataset has a title field that contains the year the movie was released. I want to create 2 new variables: titleOnly and year so that the year information is stored separately from the title. I do so by splitting on '(' and later remove the ')' from the year variable."
   ]
  },
  {
   "cell_type": "code",
   "execution_count": 310,
   "metadata": {},
   "outputs": [
    {
     "data": {
      "text/html": [
       "<div>\n",
       "<style scoped>\n",
       "    .dataframe tbody tr th:only-of-type {\n",
       "        vertical-align: middle;\n",
       "    }\n",
       "\n",
       "    .dataframe tbody tr th {\n",
       "        vertical-align: top;\n",
       "    }\n",
       "\n",
       "    .dataframe thead th {\n",
       "        text-align: right;\n",
       "    }\n",
       "</style>\n",
       "<table border=\"1\" class=\"dataframe\">\n",
       "  <thead>\n",
       "    <tr style=\"text-align: right;\">\n",
       "      <th></th>\n",
       "      <th>movieId</th>\n",
       "      <th>title</th>\n",
       "      <th>genres</th>\n",
       "      <th>titleOnly</th>\n",
       "      <th>year</th>\n",
       "    </tr>\n",
       "  </thead>\n",
       "  <tbody>\n",
       "    <tr>\n",
       "      <th>0</th>\n",
       "      <td>1</td>\n",
       "      <td>Toy Story (1995)</td>\n",
       "      <td>Adventure|Animation|Children|Comedy|Fantasy</td>\n",
       "      <td>Toy Story</td>\n",
       "      <td>1995)</td>\n",
       "    </tr>\n",
       "    <tr>\n",
       "      <th>1</th>\n",
       "      <td>2</td>\n",
       "      <td>Jumanji (1995)</td>\n",
       "      <td>Adventure|Children|Fantasy</td>\n",
       "      <td>Jumanji</td>\n",
       "      <td>1995)</td>\n",
       "    </tr>\n",
       "    <tr>\n",
       "      <th>2</th>\n",
       "      <td>3</td>\n",
       "      <td>Grumpier Old Men (1995)</td>\n",
       "      <td>Comedy|Romance</td>\n",
       "      <td>Grumpier Old Men</td>\n",
       "      <td>1995)</td>\n",
       "    </tr>\n",
       "    <tr>\n",
       "      <th>3</th>\n",
       "      <td>4</td>\n",
       "      <td>Waiting to Exhale (1995)</td>\n",
       "      <td>Comedy|Drama|Romance</td>\n",
       "      <td>Waiting to Exhale</td>\n",
       "      <td>1995)</td>\n",
       "    </tr>\n",
       "    <tr>\n",
       "      <th>4</th>\n",
       "      <td>5</td>\n",
       "      <td>Father of the Bride Part II (1995)</td>\n",
       "      <td>Comedy</td>\n",
       "      <td>Father of the Bride Part II</td>\n",
       "      <td>1995)</td>\n",
       "    </tr>\n",
       "  </tbody>\n",
       "</table>\n",
       "</div>"
      ],
      "text/plain": [
       "   movieId                               title  \\\n",
       "0        1                    Toy Story (1995)   \n",
       "1        2                      Jumanji (1995)   \n",
       "2        3             Grumpier Old Men (1995)   \n",
       "3        4            Waiting to Exhale (1995)   \n",
       "4        5  Father of the Bride Part II (1995)   \n",
       "\n",
       "                                        genres                     titleOnly  \\\n",
       "0  Adventure|Animation|Children|Comedy|Fantasy                    Toy Story    \n",
       "1                   Adventure|Children|Fantasy                      Jumanji    \n",
       "2                               Comedy|Romance             Grumpier Old Men    \n",
       "3                         Comedy|Drama|Romance            Waiting to Exhale    \n",
       "4                                       Comedy  Father of the Bride Part II    \n",
       "\n",
       "    year  \n",
       "0  1995)  \n",
       "1  1995)  \n",
       "2  1995)  \n",
       "3  1995)  \n",
       "4  1995)  "
      ]
     },
     "execution_count": 310,
     "metadata": {},
     "output_type": "execute_result"
    }
   ],
   "source": [
    "new = dfMovies[\"title\"].str.split(\"(\", n = 1, expand = True)\n",
    "dfMovies[\"titleOnly\"]=new[0]\n",
    "dfMovies[\"year\"]=new[1]\n",
    "dfMovies.head()"
   ]
  },
  {
   "cell_type": "markdown",
   "metadata": {},
   "source": [
    "I check the datatypes from the movie dataset and convert the objects to strings for ease of cleaning."
   ]
  },
  {
   "cell_type": "code",
   "execution_count": 311,
   "metadata": {},
   "outputs": [
    {
     "data": {
      "text/plain": [
       "movieId       int64\n",
       "title        object\n",
       "genres       object\n",
       "titleOnly    object\n",
       "year         object\n",
       "dtype: object"
      ]
     },
     "execution_count": 311,
     "metadata": {},
     "output_type": "execute_result"
    }
   ],
   "source": [
    "dfMovies.dtypes"
   ]
  },
  {
   "cell_type": "code",
   "execution_count": 312,
   "metadata": {},
   "outputs": [
    {
     "data": {
      "text/plain": [
       "movieId       int64\n",
       "title        string\n",
       "genres       string\n",
       "titleOnly    string\n",
       "year         string\n",
       "dtype: object"
      ]
     },
     "execution_count": 312,
     "metadata": {},
     "output_type": "execute_result"
    }
   ],
   "source": [
    "dfMovies['year'] = dfMovies['year'].astype(\"string\")\n",
    "dfMovies['titleOnly'] = dfMovies['titleOnly'].astype(\"string\")\n",
    "dfMovies['title'] = dfMovies['title'].astype(\"string\")\n",
    "dfMovies['genres'] = dfMovies['genres'].astype(\"string\")\n",
    "dfMovies.dtypes"
   ]
  },
  {
   "cell_type": "markdown",
   "metadata": {},
   "source": [
    "Here I remove the closing parenthesis by splitting on the ')' character."
   ]
  },
  {
   "cell_type": "code",
   "execution_count": 313,
   "metadata": {},
   "outputs": [
    {
     "data": {
      "text/html": [
       "<div>\n",
       "<style scoped>\n",
       "    .dataframe tbody tr th:only-of-type {\n",
       "        vertical-align: middle;\n",
       "    }\n",
       "\n",
       "    .dataframe tbody tr th {\n",
       "        vertical-align: top;\n",
       "    }\n",
       "\n",
       "    .dataframe thead th {\n",
       "        text-align: right;\n",
       "    }\n",
       "</style>\n",
       "<table border=\"1\" class=\"dataframe\">\n",
       "  <thead>\n",
       "    <tr style=\"text-align: right;\">\n",
       "      <th></th>\n",
       "      <th>movieId</th>\n",
       "      <th>title</th>\n",
       "      <th>genres</th>\n",
       "      <th>titleOnly</th>\n",
       "      <th>year</th>\n",
       "    </tr>\n",
       "  </thead>\n",
       "  <tbody>\n",
       "    <tr>\n",
       "      <th>0</th>\n",
       "      <td>1</td>\n",
       "      <td>Toy Story (1995)</td>\n",
       "      <td>Adventure|Animation|Children|Comedy|Fantasy</td>\n",
       "      <td>Toy Story</td>\n",
       "      <td>1995</td>\n",
       "    </tr>\n",
       "    <tr>\n",
       "      <th>1</th>\n",
       "      <td>2</td>\n",
       "      <td>Jumanji (1995)</td>\n",
       "      <td>Adventure|Children|Fantasy</td>\n",
       "      <td>Jumanji</td>\n",
       "      <td>1995</td>\n",
       "    </tr>\n",
       "    <tr>\n",
       "      <th>2</th>\n",
       "      <td>3</td>\n",
       "      <td>Grumpier Old Men (1995)</td>\n",
       "      <td>Comedy|Romance</td>\n",
       "      <td>Grumpier Old Men</td>\n",
       "      <td>1995</td>\n",
       "    </tr>\n",
       "    <tr>\n",
       "      <th>3</th>\n",
       "      <td>4</td>\n",
       "      <td>Waiting to Exhale (1995)</td>\n",
       "      <td>Comedy|Drama|Romance</td>\n",
       "      <td>Waiting to Exhale</td>\n",
       "      <td>1995</td>\n",
       "    </tr>\n",
       "    <tr>\n",
       "      <th>4</th>\n",
       "      <td>5</td>\n",
       "      <td>Father of the Bride Part II (1995)</td>\n",
       "      <td>Comedy</td>\n",
       "      <td>Father of the Bride Part II</td>\n",
       "      <td>1995</td>\n",
       "    </tr>\n",
       "  </tbody>\n",
       "</table>\n",
       "</div>"
      ],
      "text/plain": [
       "   movieId                               title  \\\n",
       "0        1                    Toy Story (1995)   \n",
       "1        2                      Jumanji (1995)   \n",
       "2        3             Grumpier Old Men (1995)   \n",
       "3        4            Waiting to Exhale (1995)   \n",
       "4        5  Father of the Bride Part II (1995)   \n",
       "\n",
       "                                        genres                     titleOnly  \\\n",
       "0  Adventure|Animation|Children|Comedy|Fantasy                    Toy Story    \n",
       "1                   Adventure|Children|Fantasy                      Jumanji    \n",
       "2                               Comedy|Romance             Grumpier Old Men    \n",
       "3                         Comedy|Drama|Romance            Waiting to Exhale    \n",
       "4                                       Comedy  Father of the Bride Part II    \n",
       "\n",
       "   year  \n",
       "0  1995  \n",
       "1  1995  \n",
       "2  1995  \n",
       "3  1995  \n",
       "4  1995  "
      ]
     },
     "execution_count": 313,
     "metadata": {},
     "output_type": "execute_result"
    }
   ],
   "source": [
    "new = dfMovies[\"year\"].str.split(\")\", n = 1, expand = True)\n",
    "dfMovies[\"year\"]=new[0]\n",
    "dfMovies.head()"
   ]
  },
  {
   "cell_type": "markdown",
   "metadata": {},
   "source": [
    "Now, I merge the Ratings and Tags datasets by matching userId and movieID since the combination of the two should be unique across observations. This new dataset is called dfAll"
   ]
  },
  {
   "cell_type": "code",
   "execution_count": 314,
   "metadata": {},
   "outputs": [
    {
     "data": {
      "text/html": [
       "<div>\n",
       "<style scoped>\n",
       "    .dataframe tbody tr th:only-of-type {\n",
       "        vertical-align: middle;\n",
       "    }\n",
       "\n",
       "    .dataframe tbody tr th {\n",
       "        vertical-align: top;\n",
       "    }\n",
       "\n",
       "    .dataframe thead th {\n",
       "        text-align: right;\n",
       "    }\n",
       "</style>\n",
       "<table border=\"1\" class=\"dataframe\">\n",
       "  <thead>\n",
       "    <tr style=\"text-align: right;\">\n",
       "      <th></th>\n",
       "      <th>userId</th>\n",
       "      <th>movieId</th>\n",
       "      <th>rating</th>\n",
       "      <th>timestampRating</th>\n",
       "      <th>tag</th>\n",
       "      <th>timestampTag</th>\n",
       "    </tr>\n",
       "  </thead>\n",
       "  <tbody>\n",
       "    <tr>\n",
       "      <th>0</th>\n",
       "      <td>2</td>\n",
       "      <td>60756</td>\n",
       "      <td>5.0</td>\n",
       "      <td>1445714980</td>\n",
       "      <td>funny</td>\n",
       "      <td>1445714994</td>\n",
       "    </tr>\n",
       "    <tr>\n",
       "      <th>1</th>\n",
       "      <td>2</td>\n",
       "      <td>60756</td>\n",
       "      <td>5.0</td>\n",
       "      <td>1445714980</td>\n",
       "      <td>Highly quotable</td>\n",
       "      <td>1445714996</td>\n",
       "    </tr>\n",
       "    <tr>\n",
       "      <th>2</th>\n",
       "      <td>2</td>\n",
       "      <td>60756</td>\n",
       "      <td>5.0</td>\n",
       "      <td>1445714980</td>\n",
       "      <td>will ferrell</td>\n",
       "      <td>1445714992</td>\n",
       "    </tr>\n",
       "    <tr>\n",
       "      <th>3</th>\n",
       "      <td>2</td>\n",
       "      <td>89774</td>\n",
       "      <td>5.0</td>\n",
       "      <td>1445715189</td>\n",
       "      <td>Boxing story</td>\n",
       "      <td>1445715207</td>\n",
       "    </tr>\n",
       "    <tr>\n",
       "      <th>4</th>\n",
       "      <td>2</td>\n",
       "      <td>89774</td>\n",
       "      <td>5.0</td>\n",
       "      <td>1445715189</td>\n",
       "      <td>MMA</td>\n",
       "      <td>1445715200</td>\n",
       "    </tr>\n",
       "    <tr>\n",
       "      <th>...</th>\n",
       "      <td>...</td>\n",
       "      <td>...</td>\n",
       "      <td>...</td>\n",
       "      <td>...</td>\n",
       "      <td>...</td>\n",
       "      <td>...</td>\n",
       "    </tr>\n",
       "    <tr>\n",
       "      <th>3471</th>\n",
       "      <td>606</td>\n",
       "      <td>6107</td>\n",
       "      <td>4.0</td>\n",
       "      <td>1171324428</td>\n",
       "      <td>World War II</td>\n",
       "      <td>1178473747</td>\n",
       "    </tr>\n",
       "    <tr>\n",
       "      <th>3472</th>\n",
       "      <td>606</td>\n",
       "      <td>7382</td>\n",
       "      <td>4.5</td>\n",
       "      <td>1171233924</td>\n",
       "      <td>for katie</td>\n",
       "      <td>1171234019</td>\n",
       "    </tr>\n",
       "    <tr>\n",
       "      <th>3473</th>\n",
       "      <td>610</td>\n",
       "      <td>3265</td>\n",
       "      <td>5.0</td>\n",
       "      <td>1479542010</td>\n",
       "      <td>gun fu</td>\n",
       "      <td>1493843984</td>\n",
       "    </tr>\n",
       "    <tr>\n",
       "      <th>3474</th>\n",
       "      <td>610</td>\n",
       "      <td>3265</td>\n",
       "      <td>5.0</td>\n",
       "      <td>1479542010</td>\n",
       "      <td>heroic bloodshed</td>\n",
       "      <td>1493843978</td>\n",
       "    </tr>\n",
       "    <tr>\n",
       "      <th>3475</th>\n",
       "      <td>610</td>\n",
       "      <td>168248</td>\n",
       "      <td>5.0</td>\n",
       "      <td>1493850091</td>\n",
       "      <td>Heroic Bloodshed</td>\n",
       "      <td>1493844270</td>\n",
       "    </tr>\n",
       "  </tbody>\n",
       "</table>\n",
       "<p>3476 rows × 6 columns</p>\n",
       "</div>"
      ],
      "text/plain": [
       "      userId  movieId  rating  timestampRating               tag  timestampTag\n",
       "0          2    60756     5.0       1445714980             funny    1445714994\n",
       "1          2    60756     5.0       1445714980   Highly quotable    1445714996\n",
       "2          2    60756     5.0       1445714980      will ferrell    1445714992\n",
       "3          2    89774     5.0       1445715189      Boxing story    1445715207\n",
       "4          2    89774     5.0       1445715189               MMA    1445715200\n",
       "...      ...      ...     ...              ...               ...           ...\n",
       "3471     606     6107     4.0       1171324428      World War II    1178473747\n",
       "3472     606     7382     4.5       1171233924         for katie    1171234019\n",
       "3473     610     3265     5.0       1479542010            gun fu    1493843984\n",
       "3474     610     3265     5.0       1479542010  heroic bloodshed    1493843978\n",
       "3475     610   168248     5.0       1493850091  Heroic Bloodshed    1493844270\n",
       "\n",
       "[3476 rows x 6 columns]"
      ]
     },
     "execution_count": 314,
     "metadata": {},
     "output_type": "execute_result"
    }
   ],
   "source": [
    "dfAll=pd.merge(dfRatings, dfTags, left_on=['userId', 'movieId'], right_on=['userId', 'movieId'])\n",
    "dfAll"
   ]
  },
  {
   "cell_type": "markdown",
   "metadata": {},
   "source": [
    "I now merge the Movies dataset to the already merged dataset (dfAll). When I print it, I notice an error with the way I split the title variable. Recall I split on the '(' character to create the titleOnly and year variables. As you can see below, some movie titles contain parentheses as part of their title, causing the year to contain the subtitle as opposed to the year itself. I will take care of this below by checking the frequency of this problem."
   ]
  },
  {
   "cell_type": "code",
   "execution_count": 315,
   "metadata": {},
   "outputs": [
    {
     "data": {
      "text/html": [
       "<div>\n",
       "<style scoped>\n",
       "    .dataframe tbody tr th:only-of-type {\n",
       "        vertical-align: middle;\n",
       "    }\n",
       "\n",
       "    .dataframe tbody tr th {\n",
       "        vertical-align: top;\n",
       "    }\n",
       "\n",
       "    .dataframe thead th {\n",
       "        text-align: right;\n",
       "    }\n",
       "</style>\n",
       "<table border=\"1\" class=\"dataframe\">\n",
       "  <thead>\n",
       "    <tr style=\"text-align: right;\">\n",
       "      <th></th>\n",
       "      <th>userId</th>\n",
       "      <th>movieId</th>\n",
       "      <th>rating</th>\n",
       "      <th>timestampRating</th>\n",
       "      <th>tag</th>\n",
       "      <th>timestampTag</th>\n",
       "      <th>title</th>\n",
       "      <th>genres</th>\n",
       "      <th>titleOnly</th>\n",
       "      <th>year</th>\n",
       "    </tr>\n",
       "  </thead>\n",
       "  <tbody>\n",
       "    <tr>\n",
       "      <th>0</th>\n",
       "      <td>2</td>\n",
       "      <td>60756</td>\n",
       "      <td>5.0</td>\n",
       "      <td>1445714980</td>\n",
       "      <td>funny</td>\n",
       "      <td>1445714994</td>\n",
       "      <td>Step Brothers (2008)</td>\n",
       "      <td>Comedy</td>\n",
       "      <td>Step Brothers</td>\n",
       "      <td>2008</td>\n",
       "    </tr>\n",
       "    <tr>\n",
       "      <th>1</th>\n",
       "      <td>2</td>\n",
       "      <td>60756</td>\n",
       "      <td>5.0</td>\n",
       "      <td>1445714980</td>\n",
       "      <td>Highly quotable</td>\n",
       "      <td>1445714996</td>\n",
       "      <td>Step Brothers (2008)</td>\n",
       "      <td>Comedy</td>\n",
       "      <td>Step Brothers</td>\n",
       "      <td>2008</td>\n",
       "    </tr>\n",
       "    <tr>\n",
       "      <th>2</th>\n",
       "      <td>2</td>\n",
       "      <td>60756</td>\n",
       "      <td>5.0</td>\n",
       "      <td>1445714980</td>\n",
       "      <td>will ferrell</td>\n",
       "      <td>1445714992</td>\n",
       "      <td>Step Brothers (2008)</td>\n",
       "      <td>Comedy</td>\n",
       "      <td>Step Brothers</td>\n",
       "      <td>2008</td>\n",
       "    </tr>\n",
       "    <tr>\n",
       "      <th>3</th>\n",
       "      <td>62</td>\n",
       "      <td>60756</td>\n",
       "      <td>3.5</td>\n",
       "      <td>1528934376</td>\n",
       "      <td>comedy</td>\n",
       "      <td>1528934384</td>\n",
       "      <td>Step Brothers (2008)</td>\n",
       "      <td>Comedy</td>\n",
       "      <td>Step Brothers</td>\n",
       "      <td>2008</td>\n",
       "    </tr>\n",
       "    <tr>\n",
       "      <th>4</th>\n",
       "      <td>62</td>\n",
       "      <td>60756</td>\n",
       "      <td>3.5</td>\n",
       "      <td>1528934376</td>\n",
       "      <td>funny</td>\n",
       "      <td>1528934381</td>\n",
       "      <td>Step Brothers (2008)</td>\n",
       "      <td>Comedy</td>\n",
       "      <td>Step Brothers</td>\n",
       "      <td>2008</td>\n",
       "    </tr>\n",
       "    <tr>\n",
       "      <th>...</th>\n",
       "      <td>...</td>\n",
       "      <td>...</td>\n",
       "      <td>...</td>\n",
       "      <td>...</td>\n",
       "      <td>...</td>\n",
       "      <td>...</td>\n",
       "      <td>...</td>\n",
       "      <td>...</td>\n",
       "      <td>...</td>\n",
       "      <td>...</td>\n",
       "    </tr>\n",
       "    <tr>\n",
       "      <th>3471</th>\n",
       "      <td>606</td>\n",
       "      <td>1948</td>\n",
       "      <td>3.5</td>\n",
       "      <td>1177512639</td>\n",
       "      <td>British</td>\n",
       "      <td>1177512649</td>\n",
       "      <td>Tom Jones (1963)</td>\n",
       "      <td>Adventure|Comedy|Romance</td>\n",
       "      <td>Tom Jones</td>\n",
       "      <td>1963</td>\n",
       "    </tr>\n",
       "    <tr>\n",
       "      <th>3472</th>\n",
       "      <td>606</td>\n",
       "      <td>5694</td>\n",
       "      <td>3.0</td>\n",
       "      <td>1172968972</td>\n",
       "      <td>70mm</td>\n",
       "      <td>1175638092</td>\n",
       "      <td>Staying Alive (1983)</td>\n",
       "      <td>Comedy|Drama|Musical</td>\n",
       "      <td>Staying Alive</td>\n",
       "      <td>1983</td>\n",
       "    </tr>\n",
       "    <tr>\n",
       "      <th>3473</th>\n",
       "      <td>606</td>\n",
       "      <td>6107</td>\n",
       "      <td>4.0</td>\n",
       "      <td>1171324428</td>\n",
       "      <td>World War II</td>\n",
       "      <td>1178473747</td>\n",
       "      <td>Night of the Shooting Stars (Notte di San Lore...</td>\n",
       "      <td>Drama|War</td>\n",
       "      <td>Night of the Shooting Stars</td>\n",
       "      <td>Notte di San Lorenzo, La</td>\n",
       "    </tr>\n",
       "    <tr>\n",
       "      <th>3474</th>\n",
       "      <td>610</td>\n",
       "      <td>3265</td>\n",
       "      <td>5.0</td>\n",
       "      <td>1479542010</td>\n",
       "      <td>gun fu</td>\n",
       "      <td>1493843984</td>\n",
       "      <td>Hard-Boiled (Lat sau san taam) (1992)</td>\n",
       "      <td>Action|Crime|Drama|Thriller</td>\n",
       "      <td>Hard-Boiled</td>\n",
       "      <td>Lat sau san taam</td>\n",
       "    </tr>\n",
       "    <tr>\n",
       "      <th>3475</th>\n",
       "      <td>610</td>\n",
       "      <td>3265</td>\n",
       "      <td>5.0</td>\n",
       "      <td>1479542010</td>\n",
       "      <td>heroic bloodshed</td>\n",
       "      <td>1493843978</td>\n",
       "      <td>Hard-Boiled (Lat sau san taam) (1992)</td>\n",
       "      <td>Action|Crime|Drama|Thriller</td>\n",
       "      <td>Hard-Boiled</td>\n",
       "      <td>Lat sau san taam</td>\n",
       "    </tr>\n",
       "  </tbody>\n",
       "</table>\n",
       "<p>3476 rows × 10 columns</p>\n",
       "</div>"
      ],
      "text/plain": [
       "      userId  movieId  rating  timestampRating               tag  \\\n",
       "0          2    60756     5.0       1445714980             funny   \n",
       "1          2    60756     5.0       1445714980   Highly quotable   \n",
       "2          2    60756     5.0       1445714980      will ferrell   \n",
       "3         62    60756     3.5       1528934376            comedy   \n",
       "4         62    60756     3.5       1528934376             funny   \n",
       "...      ...      ...     ...              ...               ...   \n",
       "3471     606     1948     3.5       1177512639           British   \n",
       "3472     606     5694     3.0       1172968972              70mm   \n",
       "3473     606     6107     4.0       1171324428      World War II   \n",
       "3474     610     3265     5.0       1479542010            gun fu   \n",
       "3475     610     3265     5.0       1479542010  heroic bloodshed   \n",
       "\n",
       "      timestampTag                                              title  \\\n",
       "0       1445714994                               Step Brothers (2008)   \n",
       "1       1445714996                               Step Brothers (2008)   \n",
       "2       1445714992                               Step Brothers (2008)   \n",
       "3       1528934384                               Step Brothers (2008)   \n",
       "4       1528934381                               Step Brothers (2008)   \n",
       "...            ...                                                ...   \n",
       "3471    1177512649                                   Tom Jones (1963)   \n",
       "3472    1175638092                               Staying Alive (1983)   \n",
       "3473    1178473747  Night of the Shooting Stars (Notte di San Lore...   \n",
       "3474    1493843984              Hard-Boiled (Lat sau san taam) (1992)   \n",
       "3475    1493843978              Hard-Boiled (Lat sau san taam) (1992)   \n",
       "\n",
       "                           genres                     titleOnly  \\\n",
       "0                          Comedy                Step Brothers    \n",
       "1                          Comedy                Step Brothers    \n",
       "2                          Comedy                Step Brothers    \n",
       "3                          Comedy                Step Brothers    \n",
       "4                          Comedy                Step Brothers    \n",
       "...                           ...                           ...   \n",
       "3471     Adventure|Comedy|Romance                    Tom Jones    \n",
       "3472         Comedy|Drama|Musical                Staying Alive    \n",
       "3473                    Drama|War  Night of the Shooting Stars    \n",
       "3474  Action|Crime|Drama|Thriller                  Hard-Boiled    \n",
       "3475  Action|Crime|Drama|Thriller                  Hard-Boiled    \n",
       "\n",
       "                          year  \n",
       "0                         2008  \n",
       "1                         2008  \n",
       "2                         2008  \n",
       "3                         2008  \n",
       "4                         2008  \n",
       "...                        ...  \n",
       "3471                      1963  \n",
       "3472                      1983  \n",
       "3473  Notte di San Lorenzo, La  \n",
       "3474          Lat sau san taam  \n",
       "3475          Lat sau san taam  \n",
       "\n",
       "[3476 rows x 10 columns]"
      ]
     },
     "execution_count": 315,
     "metadata": {},
     "output_type": "execute_result"
    }
   ],
   "source": [
    "dfAll=pd.merge(dfAll, dfMovies, left_on=['movieId'], right_on=['movieId'])\n",
    "dfAll"
   ]
  },
  {
   "cell_type": "code",
   "execution_count": 316,
   "metadata": {},
   "outputs": [
    {
     "data": {
      "text/plain": [
       "userId               int64\n",
       "movieId              int64\n",
       "rating             float64\n",
       "timestampRating      int64\n",
       "tag                 string\n",
       "timestampTag         int64\n",
       "title               string\n",
       "genres              string\n",
       "titleOnly           string\n",
       "year                string\n",
       "dtype: object"
      ]
     },
     "execution_count": 316,
     "metadata": {},
     "output_type": "execute_result"
    }
   ],
   "source": [
    "dfAll.dtypes"
   ]
  },
  {
   "cell_type": "code",
   "execution_count": 317,
   "metadata": {},
   "outputs": [],
   "source": [
    "dfAll.titleOnly = dfAll.titleOnly.str.strip()\n",
    "dfAll.year = dfAll.year.str.strip()"
   ]
  },
  {
   "cell_type": "markdown",
   "metadata": {},
   "source": [
    "It can be seen below that year has some missing values, which may create issues when checking for non-numeric year values. These observations with missing year values are dropped, and the index is reset so that the subsequent for loop can execute without error."
   ]
  },
  {
   "cell_type": "code",
   "execution_count": 318,
   "metadata": {},
   "outputs": [
    {
     "name": "stdout",
     "output_type": "stream",
     "text": [
      "<class 'pandas.core.frame.DataFrame'>\n",
      "Int64Index: 3476 entries, 0 to 3475\n",
      "Data columns (total 10 columns):\n",
      " #   Column           Non-Null Count  Dtype  \n",
      "---  ------           --------------  -----  \n",
      " 0   userId           3476 non-null   int64  \n",
      " 1   movieId          3476 non-null   int64  \n",
      " 2   rating           3476 non-null   float64\n",
      " 3   timestampRating  3476 non-null   int64  \n",
      " 4   tag              3476 non-null   string \n",
      " 5   timestampTag     3476 non-null   int64  \n",
      " 6   title            3476 non-null   string \n",
      " 7   genres           3476 non-null   string \n",
      " 8   titleOnly        3476 non-null   string \n",
      " 9   year             3473 non-null   string \n",
      "dtypes: float64(1), int64(4), string(5)\n",
      "memory usage: 298.7 KB\n"
     ]
    }
   ],
   "source": [
    "dfAll.info()"
   ]
  },
  {
   "cell_type": "code",
   "execution_count": 319,
   "metadata": {},
   "outputs": [],
   "source": [
    "dfAll.dropna(subset = [\"year\"], inplace=True)"
   ]
  },
  {
   "cell_type": "code",
   "execution_count": 320,
   "metadata": {},
   "outputs": [],
   "source": [
    "dfAll=dfAll.reset_index()"
   ]
  },
  {
   "cell_type": "markdown",
   "metadata": {},
   "source": [
    "To fix the non-numeric year observations, I simply drop those observations from the dataset. Since there are only 318 of them we are not losing too much information. Ideally, I would have found a more appropriate way to split the title variable so that titles containing parentheses would not be lost from the dataset. By visual observation, the majority of titles containing parentheses were international films (where parentheses contain the original title). Therefore we are losing a category of films by dropping these from the data. "
   ]
  },
  {
   "cell_type": "code",
   "execution_count": 321,
   "metadata": {},
   "outputs": [
    {
     "name": "stdout",
     "output_type": "stream",
     "text": [
      "Times year variable contains non-numeric values = 318\n"
     ]
    }
   ],
   "source": [
    "count=0\n",
    "for i in range(0,len(dfAll['year'])):\n",
    "    if(dfAll['year'][i].isnumeric()==False):\n",
    "        #print(dfAll.iloc[i])\n",
    "        dfAll.drop([i],inplace=True, axis=0)\n",
    "        count=count+1\n",
    "        \n",
    "            \n",
    "print('Times year variable contains non-numeric values =', count)"
   ]
  },
  {
   "cell_type": "code",
   "execution_count": 322,
   "metadata": {},
   "outputs": [],
   "source": [
    "dfAll=dfAll.reset_index()"
   ]
  },
  {
   "cell_type": "markdown",
   "metadata": {},
   "source": [
    "I now verify there are no more missing values in the dataset:"
   ]
  },
  {
   "cell_type": "code",
   "execution_count": 323,
   "metadata": {},
   "outputs": [
    {
     "name": "stdout",
     "output_type": "stream",
     "text": [
      "<class 'pandas.core.frame.DataFrame'>\n",
      "RangeIndex: 3155 entries, 0 to 3154\n",
      "Data columns (total 12 columns):\n",
      " #   Column           Non-Null Count  Dtype  \n",
      "---  ------           --------------  -----  \n",
      " 0   level_0          3155 non-null   int64  \n",
      " 1   index            3155 non-null   int64  \n",
      " 2   userId           3155 non-null   int64  \n",
      " 3   movieId          3155 non-null   int64  \n",
      " 4   rating           3155 non-null   float64\n",
      " 5   timestampRating  3155 non-null   int64  \n",
      " 6   tag              3155 non-null   string \n",
      " 7   timestampTag     3155 non-null   int64  \n",
      " 8   title            3155 non-null   string \n",
      " 9   genres           3155 non-null   string \n",
      " 10  titleOnly        3155 non-null   string \n",
      " 11  year             3155 non-null   string \n",
      "dtypes: float64(1), int64(6), string(5)\n",
      "memory usage: 295.9 KB\n"
     ]
    }
   ],
   "source": [
    "dfAll.info()"
   ]
  },
  {
   "cell_type": "code",
   "execution_count": 324,
   "metadata": {},
   "outputs": [
    {
     "data": {
      "text/html": [
       "<div>\n",
       "<style scoped>\n",
       "    .dataframe tbody tr th:only-of-type {\n",
       "        vertical-align: middle;\n",
       "    }\n",
       "\n",
       "    .dataframe tbody tr th {\n",
       "        vertical-align: top;\n",
       "    }\n",
       "\n",
       "    .dataframe thead th {\n",
       "        text-align: right;\n",
       "    }\n",
       "</style>\n",
       "<table border=\"1\" class=\"dataframe\">\n",
       "  <thead>\n",
       "    <tr style=\"text-align: right;\">\n",
       "      <th></th>\n",
       "      <th>level_0</th>\n",
       "      <th>index</th>\n",
       "      <th>userId</th>\n",
       "      <th>movieId</th>\n",
       "      <th>rating</th>\n",
       "      <th>timestampRating</th>\n",
       "      <th>tag</th>\n",
       "      <th>timestampTag</th>\n",
       "      <th>title</th>\n",
       "      <th>genres</th>\n",
       "      <th>titleOnly</th>\n",
       "      <th>year</th>\n",
       "    </tr>\n",
       "  </thead>\n",
       "  <tbody>\n",
       "    <tr>\n",
       "      <th>0</th>\n",
       "      <td>0</td>\n",
       "      <td>0</td>\n",
       "      <td>2</td>\n",
       "      <td>60756</td>\n",
       "      <td>5.0</td>\n",
       "      <td>1445714980</td>\n",
       "      <td>funny</td>\n",
       "      <td>1445714994</td>\n",
       "      <td>Step Brothers (2008)</td>\n",
       "      <td>Comedy</td>\n",
       "      <td>Step Brothers</td>\n",
       "      <td>2008</td>\n",
       "    </tr>\n",
       "    <tr>\n",
       "      <th>1</th>\n",
       "      <td>1</td>\n",
       "      <td>1</td>\n",
       "      <td>2</td>\n",
       "      <td>60756</td>\n",
       "      <td>5.0</td>\n",
       "      <td>1445714980</td>\n",
       "      <td>Highly quotable</td>\n",
       "      <td>1445714996</td>\n",
       "      <td>Step Brothers (2008)</td>\n",
       "      <td>Comedy</td>\n",
       "      <td>Step Brothers</td>\n",
       "      <td>2008</td>\n",
       "    </tr>\n",
       "    <tr>\n",
       "      <th>2</th>\n",
       "      <td>2</td>\n",
       "      <td>2</td>\n",
       "      <td>2</td>\n",
       "      <td>60756</td>\n",
       "      <td>5.0</td>\n",
       "      <td>1445714980</td>\n",
       "      <td>will ferrell</td>\n",
       "      <td>1445714992</td>\n",
       "      <td>Step Brothers (2008)</td>\n",
       "      <td>Comedy</td>\n",
       "      <td>Step Brothers</td>\n",
       "      <td>2008</td>\n",
       "    </tr>\n",
       "    <tr>\n",
       "      <th>3</th>\n",
       "      <td>3</td>\n",
       "      <td>3</td>\n",
       "      <td>62</td>\n",
       "      <td>60756</td>\n",
       "      <td>3.5</td>\n",
       "      <td>1528934376</td>\n",
       "      <td>comedy</td>\n",
       "      <td>1528934384</td>\n",
       "      <td>Step Brothers (2008)</td>\n",
       "      <td>Comedy</td>\n",
       "      <td>Step Brothers</td>\n",
       "      <td>2008</td>\n",
       "    </tr>\n",
       "    <tr>\n",
       "      <th>4</th>\n",
       "      <td>4</td>\n",
       "      <td>4</td>\n",
       "      <td>62</td>\n",
       "      <td>60756</td>\n",
       "      <td>3.5</td>\n",
       "      <td>1528934376</td>\n",
       "      <td>funny</td>\n",
       "      <td>1528934381</td>\n",
       "      <td>Step Brothers (2008)</td>\n",
       "      <td>Comedy</td>\n",
       "      <td>Step Brothers</td>\n",
       "      <td>2008</td>\n",
       "    </tr>\n",
       "  </tbody>\n",
       "</table>\n",
       "</div>"
      ],
      "text/plain": [
       "   level_0  index  userId  movieId  rating  timestampRating              tag  \\\n",
       "0        0      0       2    60756     5.0       1445714980            funny   \n",
       "1        1      1       2    60756     5.0       1445714980  Highly quotable   \n",
       "2        2      2       2    60756     5.0       1445714980     will ferrell   \n",
       "3        3      3      62    60756     3.5       1528934376           comedy   \n",
       "4        4      4      62    60756     3.5       1528934376            funny   \n",
       "\n",
       "   timestampTag                 title  genres      titleOnly  year  \n",
       "0    1445714994  Step Brothers (2008)  Comedy  Step Brothers  2008  \n",
       "1    1445714996  Step Brothers (2008)  Comedy  Step Brothers  2008  \n",
       "2    1445714992  Step Brothers (2008)  Comedy  Step Brothers  2008  \n",
       "3    1528934384  Step Brothers (2008)  Comedy  Step Brothers  2008  \n",
       "4    1528934381  Step Brothers (2008)  Comedy  Step Brothers  2008  "
      ]
     },
     "execution_count": 324,
     "metadata": {},
     "output_type": "execute_result"
    }
   ],
   "source": [
    "dfAll.head()"
   ]
  },
  {
   "cell_type": "markdown",
   "metadata": {},
   "source": [
    "## Adding more features\n",
    "\n",
    "I want to use DBSCAN for my cluster analysis; therefore I want to convert any string variables into numerical values via conversion to categories. First I will do this for the genres variable. I create a new variable called genreCat (for genre category). I then generate the category codes using .cat.codes which autogenerates values according to the strings in the genres variable."
   ]
  },
  {
   "cell_type": "code",
   "execution_count": 325,
   "metadata": {},
   "outputs": [],
   "source": [
    "dfAll[\"genreCat\"] = dfAll[\"genres\"].astype('category')"
   ]
  },
  {
   "cell_type": "code",
   "execution_count": 326,
   "metadata": {},
   "outputs": [],
   "source": [
    "dfAll[\"genreCat\"] = dfAll[\"genreCat\"].cat.codes"
   ]
  },
  {
   "cell_type": "markdown",
   "metadata": {},
   "source": [
    "As seen below, there are 331 categories. Though there are only 18 genres in this dataset, some movies have more than one genre associated with it. Therefore the number of genre categories represents all the combinations of genres represented in the dataset."
   ]
  },
  {
   "cell_type": "code",
   "execution_count": 327,
   "metadata": {},
   "outputs": [
    {
     "data": {
      "text/plain": [
       "count    3155.000000\n",
       "mean      193.746117\n",
       "std        89.077214\n",
       "min         0.000000\n",
       "25%       129.500000\n",
       "50%       205.000000\n",
       "75%       263.000000\n",
       "max       330.000000\n",
       "Name: genreCat, dtype: float64"
      ]
     },
     "execution_count": 327,
     "metadata": {},
     "output_type": "execute_result"
    }
   ],
   "source": [
    "dfAll[\"genreCat\"].describe()"
   ]
  },
  {
   "cell_type": "markdown",
   "metadata": {},
   "source": [
    "I now want to convert the datatype of genreCat and year to integers. genreCat was previously of category type and year was of string type."
   ]
  },
  {
   "cell_type": "code",
   "execution_count": 328,
   "metadata": {},
   "outputs": [],
   "source": [
    "dfAll[\"genreCat\"] = dfAll[\"genreCat\"].astype('int')\n",
    "dfAll[\"year\"] = dfAll[\"year\"].astype('int')"
   ]
  },
  {
   "cell_type": "code",
   "execution_count": 329,
   "metadata": {},
   "outputs": [
    {
     "data": {
      "text/plain": [
       "level_0              int64\n",
       "index                int64\n",
       "userId               int64\n",
       "movieId              int64\n",
       "rating             float64\n",
       "timestampRating      int64\n",
       "tag                 string\n",
       "timestampTag         int64\n",
       "title               string\n",
       "genres              string\n",
       "titleOnly           string\n",
       "year                 int64\n",
       "genreCat             int64\n",
       "dtype: object"
      ]
     },
     "execution_count": 329,
     "metadata": {},
     "output_type": "execute_result"
    }
   ],
   "source": [
    "dfAll.dtypes"
   ]
  },
  {
   "cell_type": "markdown",
   "metadata": {},
   "source": [
    "I want to further clean the data by dropping any movies produced before 1900. It can be seen below that the minimum year value is \"500\". We know that no movies were produced in the year 500 so we drop movies produced prior to 1900 and now find the min to be 1921. Only 8 observations contained a movie produced before 1900."
   ]
  },
  {
   "cell_type": "code",
   "execution_count": 330,
   "metadata": {},
   "outputs": [
    {
     "data": {
      "text/plain": [
       "count    3155.000000\n",
       "mean     1989.920761\n",
       "std        77.503293\n",
       "min       500.000000\n",
       "25%      1989.000000\n",
       "50%      1998.000000\n",
       "75%      2006.000000\n",
       "max      2018.000000\n",
       "Name: year, dtype: float64"
      ]
     },
     "execution_count": 330,
     "metadata": {},
     "output_type": "execute_result"
    }
   ],
   "source": [
    "dfAll['year'].describe()"
   ]
  },
  {
   "cell_type": "code",
   "execution_count": 331,
   "metadata": {},
   "outputs": [
    {
     "name": "stdout",
     "output_type": "stream",
     "text": [
      "Times year was less than 1900 = 8\n"
     ]
    }
   ],
   "source": [
    "count=0\n",
    "for i in range(0,len(dfAll['year'])):\n",
    "    if(dfAll['year'][i] < 1900):\n",
    "        #print(dfAll.iloc[i])\n",
    "        dfAll.drop([i],inplace=True, axis=0)\n",
    "        count=count+1\n",
    "        \n",
    "print('Times year was less than 1900 =', count)"
   ]
  },
  {
   "cell_type": "code",
   "execution_count": 332,
   "metadata": {},
   "outputs": [],
   "source": [
    "#dfAll=dfAll.reset_index()"
   ]
  },
  {
   "cell_type": "code",
   "execution_count": 333,
   "metadata": {},
   "outputs": [],
   "source": [
    "#dfAll.to_csv('test.csv')"
   ]
  },
  {
   "cell_type": "markdown",
   "metadata": {},
   "source": [
    "## Clustering"
   ]
  },
  {
   "cell_type": "markdown",
   "metadata": {},
   "source": [
    "I would like to use the DBSCAN model to cluster my data. I chose this model because it conceptually makes sense and is relatively simple to interpret.\n",
    "\n",
    "I choose two variables on which to run DBSCAN. I choose to cluster based on year and genre (by using the genre category variable I created earlier). I chose to cluster on year and genre because I reason that people who like movies from certain years and genre combinations may like other movies from similar years and categories.\n",
    "\n",
    "Before running DBSCAN, I normalize the variables I want to use. First I place them in a renamed dataframe dfTest, then scale the data, and then I normalize that dataframe so that it follows a Gaussian distribution. Normalizing and scaling the data will allow us to plot the relationships in a more visually appealing way."
   ]
  },
  {
   "cell_type": "code",
   "execution_count": 335,
   "metadata": {},
   "outputs": [
    {
     "data": {
      "text/html": [
       "<div>\n",
       "<style scoped>\n",
       "    .dataframe tbody tr th:only-of-type {\n",
       "        vertical-align: middle;\n",
       "    }\n",
       "\n",
       "    .dataframe tbody tr th {\n",
       "        vertical-align: top;\n",
       "    }\n",
       "\n",
       "    .dataframe thead th {\n",
       "        text-align: right;\n",
       "    }\n",
       "</style>\n",
       "<table border=\"1\" class=\"dataframe\">\n",
       "  <thead>\n",
       "    <tr style=\"text-align: right;\">\n",
       "      <th></th>\n",
       "      <th>year</th>\n",
       "      <th>genreCat</th>\n",
       "    </tr>\n",
       "  </thead>\n",
       "  <tbody>\n",
       "    <tr>\n",
       "      <th>0</th>\n",
       "      <td>0.997546</td>\n",
       "      <td>-0.070018</td>\n",
       "    </tr>\n",
       "    <tr>\n",
       "      <th>1</th>\n",
       "      <td>0.997546</td>\n",
       "      <td>-0.070018</td>\n",
       "    </tr>\n",
       "    <tr>\n",
       "      <th>2</th>\n",
       "      <td>0.997546</td>\n",
       "      <td>-0.070018</td>\n",
       "    </tr>\n",
       "    <tr>\n",
       "      <th>3</th>\n",
       "      <td>0.997546</td>\n",
       "      <td>-0.070018</td>\n",
       "    </tr>\n",
       "    <tr>\n",
       "      <th>4</th>\n",
       "      <td>0.997546</td>\n",
       "      <td>-0.070018</td>\n",
       "    </tr>\n",
       "    <tr>\n",
       "      <th>...</th>\n",
       "      <td>...</td>\n",
       "      <td>...</td>\n",
       "    </tr>\n",
       "    <tr>\n",
       "      <th>3142</th>\n",
       "      <td>0.827046</td>\n",
       "      <td>0.562134</td>\n",
       "    </tr>\n",
       "    <tr>\n",
       "      <th>3143</th>\n",
       "      <td>0.827046</td>\n",
       "      <td>0.562134</td>\n",
       "    </tr>\n",
       "    <tr>\n",
       "      <th>3144</th>\n",
       "      <td>0.110744</td>\n",
       "      <td>0.993849</td>\n",
       "    </tr>\n",
       "    <tr>\n",
       "      <th>3145</th>\n",
       "      <td>-0.923569</td>\n",
       "      <td>-0.383433</td>\n",
       "    </tr>\n",
       "    <tr>\n",
       "      <th>3146</th>\n",
       "      <td>-0.956449</td>\n",
       "      <td>0.291901</td>\n",
       "    </tr>\n",
       "  </tbody>\n",
       "</table>\n",
       "<p>3147 rows × 2 columns</p>\n",
       "</div>"
      ],
      "text/plain": [
       "          year  genreCat\n",
       "0     0.997546 -0.070018\n",
       "1     0.997546 -0.070018\n",
       "2     0.997546 -0.070018\n",
       "3     0.997546 -0.070018\n",
       "4     0.997546 -0.070018\n",
       "...        ...       ...\n",
       "3142  0.827046  0.562134\n",
       "3143  0.827046  0.562134\n",
       "3144  0.110744  0.993849\n",
       "3145 -0.923569 -0.383433\n",
       "3146 -0.956449  0.291901\n",
       "\n",
       "[3147 rows x 2 columns]"
      ]
     },
     "execution_count": 335,
     "metadata": {},
     "output_type": "execute_result"
    }
   ],
   "source": [
    "dfTest=dfAll[['year','genreCat']]\n",
    "\n",
    "# Scaling the data to bring all the attributes to a comparable level \n",
    "scaler = StandardScaler() \n",
    "dfTest_scaled = scaler.fit_transform(dfTest) \n",
    "  \n",
    "# Normalizing the data so that  \n",
    "# the data approximately follows a Gaussian distribution \n",
    "dfTest_normalized = normalize(dfTest_scaled) \n",
    "  \n",
    "# Converting the numpy array into a pandas DataFrame \n",
    "dfTest_normalized = pd.DataFrame(dfTest_normalized)\n",
    "dfTest_normalized\n",
    "\n",
    "dfTest_normalized.columns = ['year', 'genreCat']\n",
    "dfTest_normalized"
   ]
  },
  {
   "cell_type": "markdown",
   "metadata": {},
   "source": [
    "Here I run the DBSCAN algorithm with an eps value of 0.02 and minimum sample per cluster of 5. I chose this eps because larger values resulted in a single cluster. Since the values in the dataset (as seen above) are all very small, I needed a smaller eps value to account for this. I chose a relatively random min_sample value to see the results."
   ]
  },
  {
   "cell_type": "code",
   "execution_count": 339,
   "metadata": {},
   "outputs": [
    {
     "name": "stdout",
     "output_type": "stream",
     "text": [
      "{0, 1, 2, 3, 4, 5, 6, 7, 8, 9, 10, 11, 12, 13, 14, 15, 16, 17, 18, 19, 20, 21, 22, 23, 24, 25, 26, 27, 28, 29, 30, 31, 32, 33, 34, 35, 36, 37, 38, 39, -1}\n",
      "Estimated number of clusters: 41\n",
      "Estimated number of noise points: 25\n"
     ]
    }
   ],
   "source": [
    "dbsc = DBSCAN(eps = 0.02, min_samples = 5).fit(dfTest_normalized)\n",
    "labels = dbsc.labels_\n",
    "core_samples = np.zeros_like(labels, dtype = bool)\n",
    "core_samples[dbsc.core_sample_indices_] = True\n",
    "\n",
    "print(set(labels))\n",
    "\n",
    "n_clusters_=len(set(labels))\n",
    "n_noise_=list(labels).count(-1)\n",
    "\n",
    "print('Estimated number of clusters: %d' % n_clusters_)\n",
    "print('Estimated number of noise points: %d' % n_noise_)"
   ]
  },
  {
   "cell_type": "markdown",
   "metadata": {},
   "source": [
    "I now plot the data in a scatter plot and color the clusters that were determined by DBSCAN. The noise values (values not placed in a cluster) are always colored black. It can be seen below that there are definite clusters of data."
   ]
  },
  {
   "cell_type": "code",
   "execution_count": 340,
   "metadata": {},
   "outputs": [
    {
     "data": {
      "image/png": "[encoded data removed]",
      "text/plain": [
       "<Figure size 648x648 with 1 Axes>"
      ]
     },
     "metadata": {
      "needs_background": "light"
     },
     "output_type": "display_data"
    }
   ],
   "source": [
    "import random\n",
    "\n",
    "colors={}\n",
    "r = 0\n",
    "b = 0\n",
    "g = 0\n",
    "color = (r, g, b)\n",
    "\n",
    "colors[-1]=(0,0,0)\n",
    "for i in range(0,n_clusters_):\n",
    "    #while r==0 and b==0 and g==0:\n",
    "    r = random.random()\n",
    "    b = random.random()\n",
    "    g = random.random()\n",
    "    color = (r, g, b)\n",
    "    colors[i]=color\n",
    "    #print(colors[i])\n",
    "    \n",
    "cvec=[colors[label] for label in labels]\n",
    "\n",
    "plt.figure(figsize=(9,9))\n",
    "plt.scatter(dfTest['year'], dfTest['genreCat'], c=cvec)\n",
    "\n",
    "plt.show()"
   ]
  }
 ],
 "metadata": {
  "kernelspec": {
   "display_name": "Python 3",
   "language": "python",
   "name": "python3"
  },
  "language_info": {
   "codemirror_mode": {
    "name": "ipython",
    "version": 3
   },
   "file_extension": ".py",
   "mimetype": "text/x-python",
   "name": "python",
   "nbconvert_exporter": "python",
   "pygments_lexer": "ipython3",
   "version": "3.8.3"
  }
 },
 "nbformat": 4,
 "nbformat_minor": 4
}
